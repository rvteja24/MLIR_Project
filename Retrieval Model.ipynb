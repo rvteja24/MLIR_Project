{
 "cells": [
  {
   "cell_type": "code",
   "execution_count": 1,
   "metadata": {},
   "outputs": [],
   "source": [
    "import nltk\n",
    "from nltk.tokenize import word_tokenize\n",
    "from nltk.corpus import stopwords\n",
    "from nltk.stem import WordNetLemmatizer\n",
    "import spacy\n",
    "from collections import defaultdict\n",
    "import pickle\n",
    "from google_trans_new import google_trans_new"
   ]
  },
  {
   "cell_type": "code",
   "execution_count": 2,
   "metadata": {},
   "outputs": [],
   "source": [
    "def queryPreprocess(query, nlp_en, nlp_de, translator):\n",
    "    en_query = translator.translate(query, lang_tgt='en')\n",
    "    de_query = translator.translate(query, lang_tgt='de')\n",
    "    processed_query_en = nlp_en(en_query)\n",
    "    query_token_list_en = []\n",
    "    for tok in processed_query_en:\n",
    "        val = tok.lemma_.lower()\n",
    "        if val.isalnum():\n",
    "            query_token_list_en.append(val)\n",
    "    processed_query_de = nlp_de(de_query)\n",
    "    query_token_list_de = []\n",
    "    for tok in processed_query_de:\n",
    "        val = tok.lemma_.lower()\n",
    "        if val.isalnum():\n",
    "            query_token_list_de.append(val)\n",
    "    return query_token_list_de, query_token_list_en"
   ]
  },
  {
   "cell_type": "code",
   "execution_count": 3,
   "metadata": {},
   "outputs": [],
   "source": [
    "#Get closest decomposed words for a given word from vocab\n",
    "def closestWords(word, wordMap):\n",
    "    word = word.lower()\n",
    "    if word in wordMap:\n",
    "        return word\n",
    "    memo = {}\n",
    "    def recursive(w):\n",
    "        if w in wordMap:\n",
    "            return [w]\n",
    "        elif w == \"\":\n",
    "            return []\n",
    "        \n",
    "        candidates = [[]]\n",
    "        for i in range(len(w)):\n",
    "            for j in range(i + 1, len(w)):\n",
    "                if w[i: j] in wordMap:\n",
    "                    candidates.append([w[i: j]] + memo.get(w[j:], recursive(w[j:])))   \n",
    "        memo[w] = max(candidates, key=lambda x: sum([len(i) for i in x])/(len(x)+1))\n",
    "        return memo[w]\n",
    "    return recursive(word)\n",
    "\n",
    "def queryIds(queryList, word2id):\n",
    "    queryIdList = []\n",
    "    for each in queryList:\n",
    "        if each in word2id:\n",
    "            queryIdList.append(word2id.get(each))\n",
    "        else:\n",
    "            closest = closestWords(each, word2id)\n",
    "            for tok in closest:\n",
    "                queryIdList.append(word2id.get(tok))\n",
    "    return queryIdList"
   ]
  },
  {
   "cell_type": "code",
   "execution_count": 4,
   "metadata": {},
   "outputs": [],
   "source": [
    "import math\n",
    "def retrievalModel(lang, queryList, collection_frequencies, inverted_indices, i2u, mu=200):\n",
    "    c_mod = sum(collection_frequencies.values())\n",
    "    candidates = {}\n",
    "    candidate_denominators = {}\n",
    "    candidate_scores = {}\n",
    "    \n",
    "    for id_ in queryList:\n",
    "        for doc in inverted_indices.get(id_):\n",
    "            candidates[doc[0]] = [mu * (collection_frequencies.get(id_))/c_mod for _ in range(len(queryList))]\n",
    "            candidate_denominators[doc[0]] = (doc[2] + mu)\n",
    "    \n",
    "    for i in range(len(queryList)):\n",
    "        for doc in inverted_indices.get(id_):\n",
    "            candidates[doc[0]][i] = (candidates[doc[0]][i] + doc[1])\n",
    "\n",
    "    for key in candidates:\n",
    "        denom = candidate_denominators.get(key)\n",
    "        candidates[key] = [math.log(i/denom, 2) for i in candidates[key]]\n",
    "        url = i2u.get(key)\n",
    "        if lang == \"de\":\n",
    "            url = url[:8] + \"de\" + url[10:]\n",
    "        candidate_scores[url] = sum(candidates[key])\n",
    "    \n",
    "    return sorted(list(candidate_scores.items()), reverse=True, key=lambda x: x[1])\n",
    "    \n",
    "    \n",
    "    "
   ]
  },
  {
   "cell_type": "code",
   "execution_count": 35,
   "metadata": {},
   "outputs": [],
   "source": [
    "def getFinalRankedList(query, nlp_en, nlp_de, translator, indexMap):\n",
    "    word2id_de = indexMap.get('word2id_de')\n",
    "    word2id_eng = indexMap.get(\"word2id_eng\")\n",
    "    collection_frequencies_de = indexMap.get('collection_frequencies_de')\n",
    "    collection_frequencies_eng = indexMap.get(\"collection_frequencies_eng\")\n",
    "    inverted_indices_de = indexMap.get(\"inverted_indices_de\")\n",
    "    inverted_indices_eng = indexMap.get(\"inverted_indices_eng\")\n",
    "    i2u_de = indexMap.get(\"i2u_de\")\n",
    "    i2u_eng = indexMap.get(\"i2u_eng\")\n",
    "    \n",
    "    germanQuery, englishQuery = queryPreprocess(query, nlp_en, nlp_de, translator)\n",
    "    ranked_list1 = retrievalModel(\"de\", queryIds(germanQuery, word2id_de), collection_frequencies_de, inverted_indices_de, i2u_de, 500)\n",
    "    ranked_list2 = retrievalModel(\"en\", queryIds(englishQuery, word2id_eng), collection_frequencies_eng, inverted_indices_eng, i2u_eng, 500)\n",
    "    final_ranked_list = ranked_list1[:20] + ranked_list2[:20]\n",
    "    final_ranked_list.sort(reverse=True, key=lambda x: x[1])\n",
    "    return final_ranked_list[:20]"
   ]
  },
  {
   "cell_type": "code",
   "execution_count": 6,
   "metadata": {},
   "outputs": [],
   "source": [
    "nlp_en = spacy.load(\"en_core_web_sm\")\n",
    "nlp_de = spacy.load(\"de_core_news_sm\")\n",
    "translator = google_trans_new.google_translator()"
   ]
  },
  {
   "cell_type": "code",
   "execution_count": 7,
   "metadata": {},
   "outputs": [],
   "source": [
    "inverted_indices_eng = pickle.load(open(\"inverted_indices_eng_v2.pickle\", \"rb\"))\n",
    "collection_frequencies_eng = pickle.load(open(\"collection_frequencies_eng_v2.pickle\", \"rb\"))\n",
    "word2id_eng = pickle.load(open(\"word2id_eng_v2.pickle\", \"rb\"))\n",
    "id2word_eng = pickle.load(open(\"id2word_eng_v2.pickle\", \"rb\"))\n",
    "u2i_eng = pickle.load(open(\"u2i_eng_v2.pickle\", \"rb\"))\n",
    "i2u_eng = pickle.load(open(\"i2u_eng_v2.pickle\", \"rb\"))"
   ]
  },
  {
   "cell_type": "code",
   "execution_count": 8,
   "metadata": {},
   "outputs": [],
   "source": [
    "with open(\"inverted_indices_de_v2.pickle\", \"rb\") as f:\n",
    "    inverted_indices_de = pickle.load(f)\n",
    "with open(\"collection_frequencies_de_v2.pickle\", \"rb\") as f:\n",
    "    collection_frequencies_de = pickle.load(f)\n",
    "with open(\"word2id_de_v2.pickle\", \"rb\") as f:\n",
    "    word2id_de = pickle.load(f)\n",
    "with open(\"id2word_de_v2.pickle\", \"rb\") as f:\n",
    "    id2word_de = pickle.load(f)\n",
    "with open(\"u2i_de_v2.pickle\", \"rb\") as f:\n",
    "    u2i_de = pickle.load(f)\n",
    "with open(\"i2u_de_v2.pickle\", \"rb\") as f:\n",
    "    i2u_de = pickle.load(f)"
   ]
  },
  {
   "cell_type": "code",
   "execution_count": 9,
   "metadata": {},
   "outputs": [],
   "source": [
    "indexMap = {}\n",
    "indexMap[\"inverted_indices_de\"] = inverted_indices_de\n",
    "indexMap[\"collection_frequencies_de\"] = collection_frequencies_de\n",
    "indexMap[\"word2id_de\"] = word2id_de\n",
    "indexMap[\"i2u_de\"] = i2u_de\n",
    "indexMap[\"inverted_indices_eng\"] = inverted_indices_eng\n",
    "indexMap[\"collection_frequencies_eng\"] = collection_frequencies_eng\n",
    "indexMap[\"word2id_eng\"] = word2id_eng\n",
    "indexMap[\"i2u_eng\"] = i2u_eng"
   ]
  },
  {
   "cell_type": "code",
   "execution_count": 38,
   "metadata": {},
   "outputs": [
    {
     "data": {
      "text/plain": [
       "[('https://en.wikipedia.org/wiki/Metric\"', -5.271837972531778),\n",
       " ('https://en.wikipedia.org/wiki/Diffeomorphometry\"', -5.875483937107808),\n",
       " ('https://en.wikipedia.org/wiki/Metric tensor (general relativity)\"',\n",
       "  -6.08490650544641),\n",
       " ('https://en.wikipedia.org/wiki/Weyl metrics\"', -6.113600533061508),\n",
       " ('https://en.wikipedia.org/wiki/Łukaszyk–Karmowski metric\"',\n",
       "  -6.134071408205713),\n",
       " ('https://en.wikipedia.org/wiki/Vaidya metric\"', -6.224816022580784),\n",
       " ('https://en.wikipedia.org/wiki/Metric dimension (graph theory)\"',\n",
       "  -6.230188171253995),\n",
       " ('https://en.wikipedia.org/wiki/Probabilistic metric space\"',\n",
       "  -6.277158364152808),\n",
       " ('https://en.wikipedia.org/wiki/Fubini–Study metric\"', -6.33042600957874),\n",
       " ('https://en.wikipedia.org/wiki/Raising and lowering indices\"',\n",
       "  -6.37909341899262),\n",
       " ('https://en.wikipedia.org/wiki/Riemannian manifold\"', -6.408979238147976),\n",
       " ('https://en.wikipedia.org/wiki/Metric tensor\"', -6.434048640652896),\n",
       " ('https://en.wikipedia.org/wiki/Line element\"', -6.4401904459609804),\n",
       " ('https://en.wikipedia.org/wiki/String metric\"', -6.492511805784441),\n",
       " ('https://en.wikipedia.org/wiki/Bimetric gravity\"', -6.539676692341719),\n",
       " ('https://en.wikipedia.org/wiki/Ashtekar variables\"', -6.548681505602929),\n",
       " ('https://en.wikipedia.org/wiki/Metric connection\"', -6.549501600558041),\n",
       " ('https://en.wikipedia.org/wiki/Universal space\"', -6.55524240323314),\n",
       " ('https://en.wikipedia.org/wiki/Christoffel symbols\"', -6.607729073920776),\n",
       " ('https://en.wikipedia.org/wiki/Eddington–Finkelstein coordinates\"',\n",
       "  -6.646201877484507)]"
      ]
     },
     "execution_count": 38,
     "metadata": {},
     "output_type": "execute_result"
    }
   ],
   "source": [
    "getFinalRankedList(\"metrics\",  nlp_en, nlp_de, translator, indexMap)"
   ]
  },
  {
   "cell_type": "code",
   "execution_count": null,
   "metadata": {},
   "outputs": [],
   "source": []
  }
 ],
 "metadata": {
  "kernelspec": {
   "display_name": "Python 3",
   "language": "python",
   "name": "python3"
  },
  "language_info": {
   "codemirror_mode": {
    "name": "ipython",
    "version": 3
   },
   "file_extension": ".py",
   "mimetype": "text/x-python",
   "name": "python",
   "nbconvert_exporter": "python",
   "pygments_lexer": "ipython3",
   "version": "3.8.5"
  }
 },
 "nbformat": 4,
 "nbformat_minor": 4
}
