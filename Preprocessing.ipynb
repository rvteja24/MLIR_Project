{
 "cells": [
  {
   "cell_type": "code",
   "execution_count": 1,
   "metadata": {},
   "outputs": [],
   "source": [
    "import nltk\n",
    "from nltk.tokenize import word_tokenize\n",
    "from nltk.corpus import stopwords\n",
    "from nltk.stem import WordNetLemmatizer\n",
    "import spacy\n",
    "from collections import defaultdict\n",
    "import pickle"
   ]
  },
  {
   "cell_type": "code",
   "execution_count": 2,
   "metadata": {},
   "outputs": [],
   "source": [
    "wiki_base = \"https://en.wikipedia.org/wiki/\""
   ]
  },
  {
   "cell_type": "code",
   "execution_count": 3,
   "metadata": {},
   "outputs": [],
   "source": [
    "nlp_en = spacy.load(\"en_core_web_sm\")\n",
    "nlp_de = spacy.load(\"de_core_news_sm\")"
   ]
  },
  {
   "cell_type": "code",
   "execution_count": 4,
   "metadata": {},
   "outputs": [],
   "source": [
    "def PreprocessData(path, nlp_model):\n",
    "    url2doctf = dict()\n",
    "    vocabToId = {}\n",
    "    idToVocab = {}\n",
    "    urlToDocId = {}\n",
    "    docIdToUrl = {}\n",
    "    collectionFrequencies = defaultdict(int)\n",
    "    i = 0\n",
    "    with open(path, \"r\", encoding=\"utf-8\") as file:\n",
    "        currentText = \"\"\n",
    "        url = \"\"\n",
    "        for f in file:\n",
    "            if \"<article name=\" in f:\n",
    "                if url == \"\":\n",
    "                    url = wiki_base + f[15:-2]\n",
    "                else:\n",
    "                    processed_text = nlp_model(currentText)\n",
    "                    term_frequencies = defaultdict(int)\n",
    "                    for tok in processed_text:\n",
    "                        val = tok.lemma_.lower()\n",
    "                        temp = val.split(\"-\")\n",
    "                        for word in temp:\n",
    "                            if word not in vocabToId:\n",
    "                                vocabToId[word] = len(vocabToId)\n",
    "                                idToVocab[len(idToVocab)] = word\n",
    "                            term_frequencies[vocabToId[word]] += 1\n",
    "                    for key in term_frequencies:\n",
    "                        collectionFrequencies[key] += term_frequencies[key]\n",
    "                    docIdToUrl[len(docIdToUrl)] = url\n",
    "                    urlToDocId[url] = len(urlToDocId)\n",
    "                    url2doctf[urlToDocId[url]] = term_frequencies\n",
    "                    url = wiki_base + f[15:-2]\n",
    "                    currentText = \"\" \n",
    "            else:\n",
    "                currentText = currentText + f + \" \"\n",
    "                \n",
    "    return (url2doctf, collectionFrequencies, vocabToId, idToVocab, urlToDocId, docIdToUrl)\n",
    "\n",
    "def getInvertedIndices(lm_eng):\n",
    "    invertedIndices = defaultdict(list)\n",
    "    for key in lm_eng:\n",
    "        document_size = sum(lm_eng[key].values())\n",
    "        for idx in lm_eng[key]:\n",
    "            invertedIndices[idx].append((key, lm_eng[key][idx], document_size))\n",
    "    for key in invertedIndices:\n",
    "        invertedIndices[key].sort(key=lambda x: x[0])\n",
    "    return invertedIndices"
   ]
  },
  {
   "cell_type": "code",
   "execution_count": 8,
   "metadata": {},
   "outputs": [
    {
     "name": "stdout",
     "output_type": "stream",
     "text": [
      "328536\n"
     ]
    }
   ],
   "source": [
    "lm_eng, collection_frequencies_eng, word2id_eng, id2word_eng, u2i_eng, i2u_eng = PreprocessData(r\"C:\\Users\\rvtej\\Documents\\Fall2021\\IR\\IRProject\\data\\engWiki.txt\", nlp_en)  \n",
    "print(len(lm_eng))"
   ]
  },
  {
   "cell_type": "code",
   "execution_count": null,
   "metadata": {},
   "outputs": [],
   "source": [
    "inverted_indices_eng = getInvertedIndices(lm_eng)"
   ]
  },
  {
   "cell_type": "code",
   "execution_count": null,
   "metadata": {},
   "outputs": [],
   "source": [
    "pickle.dump(inverted_indices_eng, open(\"inverted_indices_eng_v2.pickle\", \"wb\"))\n",
    "pickle.dump(collection_frequencies_eng, open(\"collection_frequencies_eng_v2.pickle\", \"wb\"))\n",
    "pickle.dump(word2id_eng, open(\"word2id_eng_v2.pickle\", \"wb\"))\n",
    "pickle.dump(id2word_eng, open(\"id2word_eng_v2.pickle\", \"wb\"))\n",
    "pickle.dump(u2i_eng, open(\"u2i_eng_v2.pickle\", \"wb\"))\n",
    "pickle.dump(i2u_eng, open(\"i2u_eng_v2.pickle\", \"wb\"))"
   ]
  },
  {
   "cell_type": "code",
   "execution_count": 5,
   "metadata": {},
   "outputs": [
    {
     "name": "stdout",
     "output_type": "stream",
     "text": [
      "298932\n"
     ]
    }
   ],
   "source": [
    "lm_de, collection_frequencies_de, word2id_de, id2word_de, u2i_de, i2u_de = PreprocessData(r\"C:\\Users\\rvtej\\Documents\\Fall2021\\IR\\IRProject\\data\\deWikiNew.txt\", nlp_de)  \n",
    "print(len(lm_de))"
   ]
  },
  {
   "cell_type": "code",
   "execution_count": 6,
   "metadata": {},
   "outputs": [],
   "source": [
    "inverted_indices_de = getInvertedIndices(lm_de)"
   ]
  },
  {
   "cell_type": "code",
   "execution_count": 7,
   "metadata": {},
   "outputs": [],
   "source": [
    "pickle.dump(inverted_indices_de, open(\"inverted_indices_de_v2.pickle\", \"wb\"))\n",
    "pickle.dump(collection_frequencies_de, open(\"collection_frequencies_de_v2.pickle\", \"wb\"))\n",
    "pickle.dump(word2id_de, open(\"word2id_de_v2.pickle\", \"wb\"))\n",
    "pickle.dump(id2word_de, open(\"id2word_de_v2.pickle\", \"wb\"))\n",
    "pickle.dump(u2i_de, open(\"u2i_de_v2.pickle\", \"wb\"))\n",
    "pickle.dump(i2u_de, open(\"i2u_de_v2.pickle\", \"wb\"))"
   ]
  },
  {
   "cell_type": "code",
   "execution_count": 8,
   "metadata": {},
   "outputs": [
    {
     "name": "stderr",
     "output_type": "stream",
     "text": [
      "IOPub data rate exceeded.\n",
      "The notebook server will temporarily stop sending output\n",
      "to the client in order to avoid crashing it.\n",
      "To change this limit, set the config variable\n",
      "`--NotebookApp.iopub_data_rate_limit`.\n",
      "\n",
      "Current values:\n",
      "NotebookApp.iopub_data_rate_limit=1000000.0 (bytes/sec)\n",
      "NotebookApp.rate_limit_window=3.0 (secs)\n",
      "\n"
     ]
    }
   ],
   "source": [
    "k = None\n",
    "with open(\"inverted_indices_eng.pickle\", \"rb\") as f:\n",
    "    k = pickle.load(f)\n",
    "print(k)"
   ]
  },
  {
   "cell_type": "code",
   "execution_count": null,
   "metadata": {},
   "outputs": [],
   "source": []
  }
 ],
 "metadata": {
  "kernelspec": {
   "display_name": "Python 3",
   "language": "python",
   "name": "python3"
  },
  "language_info": {
   "codemirror_mode": {
    "name": "ipython",
    "version": 3
   },
   "file_extension": ".py",
   "mimetype": "text/x-python",
   "name": "python",
   "nbconvert_exporter": "python",
   "pygments_lexer": "ipython3",
   "version": "3.8.5"
  }
 },
 "nbformat": 4,
 "nbformat_minor": 4
}
